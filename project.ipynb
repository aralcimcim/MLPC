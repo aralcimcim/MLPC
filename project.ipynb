{
 "cells": [
  {
   "cell_type": "code",
   "execution_count": 1,
   "id": "3ca4d8fc",
   "metadata": {},
   "outputs": [
    {
     "name": "stdout",
     "output_type": "stream",
     "text": [
      "['embeddings', 'melspectrogram', 'mfcc', 'mfcc_delta', 'mfcc_delta2', 'flatness', 'centroid', 'flux', 'energy', 'power', 'bandwidth', 'contrast', 'zerocrossingrate']\n",
      "Shape of ZCR feature (time, n_features) (233, 1)\n",
      "Shape of MFCC features (time, n_features) (233, 32)\n"
     ]
    }
   ],
   "source": [
    "import numpy as np\n",
    "import pandas as pd\n",
    "import os\n",
    "  \n",
    "# load the metadata\n",
    "metadata_df = pd.read_csv(\"metadata.csv\")\n",
    "title_embeddings = np.load(\"metadata_title_embeddings.npz\")[\"embeddings\"]\n",
    "keywords_embeddings = np.load(\"metadata_keywords_embeddings.npz\")[\"embeddings\"]\n",
    "  \n",
    "# load the annotations\n",
    "annotations_df = pd.read_csv(\"annotations.csv\")\n",
    "annotations_embeddings = np.load(\"annotations_text_embeddings.npz\")[\"embeddings\"]\n",
    "  \n",
    "# load audio features\n",
    "feature_filename = metadata_df.loc[0, \"filename\"].replace(\"mp3\", \"npz\")\n",
    "features = np.load(os.path.join(\"audio_features\", feature_filename))\n",
    "print(list(features.keys()))\n",
    "print(\"Shape of ZCR feature (time, n_features)\", features[\"zerocrossingrate\"].shape)\n",
    "print(\"Shape of MFCC features (time, n_features)\", features[\"mfcc\"].shape)\n",
    "  \n",
    "# load audio (optional, just i you want to compute your own features ...)\n",
    "import librosa\n",
    "waveform, sr = librosa.load(os.path.join(\"audio\", metadata_df.loc[0, \"filename\"]), sr=16000)"
   ]
  },
  {
   "cell_type": "code",
   "execution_count": 2,
   "id": "419c5bf1",
   "metadata": {},
   "outputs": [
    {
     "name": "stdout",
     "output_type": "stream",
     "text": [
      "Index(['task_id', 'filename', 'annotator', 'text', 'onset', 'offset',\n",
      "       'filename_unsafe'],\n",
      "      dtype='object')\n"
     ]
    }
   ],
   "source": [
    "print(annotations_df.columns)"
   ]
  },
  {
   "cell_type": "code",
   "execution_count": 5,
   "id": "0bd83328",
   "metadata": {},
   "outputs": [
    {
     "name": "stdout",
     "output_type": "stream",
     "text": [
      "['102744.mp3', '110921.mp3']\n"
     ]
    }
   ],
   "source": [
    "grouped = annotations_df.groupby(['filename', 'annotator']).size().reset_index(name='annot_count')\n",
    "filtered = grouped[grouped['annot_count'] >= 2]\n",
    "annot_per_file = filtered.groupby('filename')['annotator'].nunique().reset_index(name='n_annotators')\n",
    "need_files = annot_per_file[annot_per_file['n_annotators'] >= 2]\n",
    "filenames = need_files['filename'].tolist()\n",
    "print(filenames[:2])"
   ]
  },
  {
   "cell_type": "code",
   "execution_count": 6,
   "id": "fea4147e",
   "metadata": {},
   "outputs": [
    {
     "name": "stdout",
     "output_type": "stream",
     "text": [
      "        filename  n_annotations\n",
      "6578  623187.mp3             96\n",
      "8926   94017.mp3             73\n",
      "6250  591203.mp3             65\n",
      "5264  518570.mp3             63\n",
      "6537  620967.mp3             42\n",
      "3541  406538.mp3             40\n",
      "8630  777608.mp3             40\n",
      "2795  352225.mp3             39\n",
      "3526  406166.mp3             38\n",
      "2126  272516.mp3             38\n"
     ]
    }
   ],
   "source": [
    "annotations_file = annotations_df.groupby('filename').size().reset_index(name='n_annotations')\n",
    "annots_sorted = annotations_file.sort_values(by='n_annotations', ascending=False)\n",
    "print(annots_sorted.head(10))"
   ]
  }
 ],
 "metadata": {
  "kernelspec": {
   "display_name": "mlpc2025",
   "language": "python",
   "name": "python3"
  },
  "language_info": {
   "codemirror_mode": {
    "name": "ipython",
    "version": 3
   },
   "file_extension": ".py",
   "mimetype": "text/x-python",
   "name": "python",
   "nbconvert_exporter": "python",
   "pygments_lexer": "ipython3",
   "version": "3.12.10"
  }
 },
 "nbformat": 4,
 "nbformat_minor": 5
}
